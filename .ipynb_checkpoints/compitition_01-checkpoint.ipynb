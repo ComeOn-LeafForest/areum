{
 "cells": [
  {
   "cell_type": "code",
   "execution_count": 1,
   "metadata": {},
   "outputs": [],
   "source": [
    "import matplotlib.pyplot as plt\n",
    "import seaborn as sns\n",
    "from sklearn.linear_model import LinearRegression"
   ]
  },
  {
   "cell_type": "code",
   "execution_count": 2,
   "metadata": {},
   "outputs": [
    {
     "data": {
      "text/plain": [
       "((2896, 15), (1008, 14), (150, 2), (16, 23))"
      ]
     },
     "execution_count": 2,
     "metadata": {},
     "output_type": "execute_result"
    }
   ],
   "source": [
    "import pandas as pd\n",
    "\n",
    "train = pd.read_csv(\"train_df_errno.csv\")\n",
    "test = pd.read_csv(\"test_df.csv\")\n",
    "sub = pd.read_csv(\"sample_submission.csv\")\n",
    "age = pd.read_csv(\"age_gender_info.csv\")\n",
    "train.shape, test.shape, sub.shape, age.shape"
   ]
  },
  {
   "cell_type": "markdown",
   "metadata": {},
   "source": [
    "### 결측치 확인하기"
   ]
  },
  {
   "cell_type": "code",
   "execution_count": 3,
   "metadata": {},
   "outputs": [
    {
     "data": {
      "text/plain": [
       "단지코드            0\n",
       "총세대수            0\n",
       "임대건물구분          0\n",
       "지역              0\n",
       "공급유형            0\n",
       "전용면적            0\n",
       "전용면적별세대수        0\n",
       "공가수             0\n",
       "자격유형            0\n",
       "임대보증금         569\n",
       "임대료           569\n",
       "10분내지하철수      211\n",
       "10분내버스정류장수      4\n",
       "단지내주차면수         0\n",
       "등록차량수           0\n",
       "dtype: int64"
      ]
     },
     "execution_count": 3,
     "metadata": {},
     "output_type": "execute_result"
    }
   ],
   "source": [
    "train.isnull().sum()"
   ]
  },
  {
   "cell_type": "code",
   "execution_count": 4,
   "metadata": {},
   "outputs": [
    {
     "data": {
      "text/plain": [
       "단지코드            0\n",
       "총세대수            0\n",
       "임대건물구분          0\n",
       "지역              0\n",
       "공급유형            0\n",
       "전용면적            0\n",
       "전용면적별세대수        0\n",
       "공가수             0\n",
       "자격유형            2\n",
       "임대보증금         180\n",
       "임대료           180\n",
       "10분내지하철수       38\n",
       "10분내버스정류장수      0\n",
       "단지내주차면수         0\n",
       "dtype: int64"
      ]
     },
     "execution_count": 4,
     "metadata": {},
     "output_type": "execute_result"
    }
   ],
   "source": [
    "test.isnull().sum()"
   ]
  },
  {
   "cell_type": "markdown",
   "metadata": {},
   "source": [
    "#### 1.test데이터셋 자격유형 mapping"
   ]
  },
  {
   "cell_type": "code",
   "execution_count": 5,
   "metadata": {},
   "outputs": [
    {
     "data": {
      "text/html": [
       "<div>\n",
       "<style scoped>\n",
       "    .dataframe tbody tr th:only-of-type {\n",
       "        vertical-align: middle;\n",
       "    }\n",
       "\n",
       "    .dataframe tbody tr th {\n",
       "        vertical-align: top;\n",
       "    }\n",
       "\n",
       "    .dataframe thead th {\n",
       "        text-align: right;\n",
       "    }\n",
       "</style>\n",
       "<table border=\"1\" class=\"dataframe\">\n",
       "  <thead>\n",
       "    <tr style=\"text-align: right;\">\n",
       "      <th></th>\n",
       "      <th>단지코드</th>\n",
       "      <th>총세대수</th>\n",
       "      <th>임대건물구분</th>\n",
       "      <th>지역</th>\n",
       "      <th>공급유형</th>\n",
       "      <th>전용면적</th>\n",
       "      <th>전용면적별세대수</th>\n",
       "      <th>공가수</th>\n",
       "      <th>자격유형</th>\n",
       "      <th>임대보증금</th>\n",
       "      <th>임대료</th>\n",
       "      <th>10분내지하철수</th>\n",
       "      <th>10분내버스정류장수</th>\n",
       "      <th>단지내주차면수</th>\n",
       "    </tr>\n",
       "  </thead>\n",
       "  <tbody>\n",
       "    <tr>\n",
       "      <th>196</th>\n",
       "      <td>C2411</td>\n",
       "      <td>962</td>\n",
       "      <td>아파트</td>\n",
       "      <td>경상남도</td>\n",
       "      <td>국민임대</td>\n",
       "      <td>46.90</td>\n",
       "      <td>240</td>\n",
       "      <td>25.0</td>\n",
       "      <td>NaN</td>\n",
       "      <td>71950000</td>\n",
       "      <td>37470</td>\n",
       "      <td>0.0</td>\n",
       "      <td>2.0</td>\n",
       "      <td>840.0</td>\n",
       "    </tr>\n",
       "    <tr>\n",
       "      <th>258</th>\n",
       "      <td>C2253</td>\n",
       "      <td>1161</td>\n",
       "      <td>아파트</td>\n",
       "      <td>강원도</td>\n",
       "      <td>영구임대</td>\n",
       "      <td>26.37</td>\n",
       "      <td>745</td>\n",
       "      <td>0.0</td>\n",
       "      <td>NaN</td>\n",
       "      <td>2249000</td>\n",
       "      <td>44770</td>\n",
       "      <td>0.0</td>\n",
       "      <td>2.0</td>\n",
       "      <td>173.0</td>\n",
       "    </tr>\n",
       "  </tbody>\n",
       "</table>\n",
       "</div>"
      ],
      "text/plain": [
       "      단지코드  총세대수 임대건물구분    지역  공급유형   전용면적  전용면적별세대수   공가수 자격유형     임대보증금  \\\n",
       "196  C2411   962    아파트  경상남도  국민임대  46.90       240  25.0  NaN  71950000   \n",
       "258  C2253  1161    아파트   강원도  영구임대  26.37       745   0.0  NaN   2249000   \n",
       "\n",
       "       임대료  10분내지하철수  10분내버스정류장수  단지내주차면수  \n",
       "196  37470       0.0         2.0    840.0  \n",
       "258  44770       0.0         2.0    173.0  "
      ]
     },
     "execution_count": 5,
     "metadata": {},
     "output_type": "execute_result"
    }
   ],
   "source": [
    "test[test['자격유형'].isna()]"
   ]
  },
  {
   "cell_type": "code",
   "execution_count": 6,
   "metadata": {},
   "outputs": [
    {
     "data": {
      "text/plain": [
       "단지코드            0\n",
       "총세대수            0\n",
       "임대건물구분          0\n",
       "지역              0\n",
       "공급유형            0\n",
       "전용면적            0\n",
       "전용면적별세대수        0\n",
       "공가수             0\n",
       "자격유형            0\n",
       "임대보증금         180\n",
       "임대료           180\n",
       "10분내지하철수       38\n",
       "10분내버스정류장수      0\n",
       "단지내주차면수         0\n",
       "dtype: int64"
      ]
     },
     "execution_count": 6,
     "metadata": {},
     "output_type": "execute_result"
    }
   ],
   "source": [
    "test.loc[196, \"자격유형\"] = \"A\"\n",
    "test.loc[258, \"자격유형\"] = \"C\"\n",
    "test.isnull().sum()"
   ]
  },
  {
   "cell_type": "code",
   "execution_count": 7,
   "metadata": {},
   "outputs": [],
   "source": [
    "train_df = train.copy(deep=True)\n",
    "test_df = test.copy(deep=True)"
   ]
  },
  {
   "cell_type": "markdown",
   "metadata": {},
   "source": [
    "#### 2.10분버스정류장수 결측치 처리"
   ]
  },
  {
   "cell_type": "code",
   "execution_count": 8,
   "metadata": {},
   "outputs": [
    {
     "data": {
      "text/html": [
       "<div>\n",
       "<style scoped>\n",
       "    .dataframe tbody tr th:only-of-type {\n",
       "        vertical-align: middle;\n",
       "    }\n",
       "\n",
       "    .dataframe tbody tr th {\n",
       "        vertical-align: top;\n",
       "    }\n",
       "\n",
       "    .dataframe thead th {\n",
       "        text-align: right;\n",
       "    }\n",
       "</style>\n",
       "<table border=\"1\" class=\"dataframe\">\n",
       "  <thead>\n",
       "    <tr style=\"text-align: right;\">\n",
       "      <th></th>\n",
       "      <th>단지코드</th>\n",
       "      <th>총세대수</th>\n",
       "      <th>임대건물구분</th>\n",
       "      <th>지역</th>\n",
       "      <th>공급유형</th>\n",
       "      <th>전용면적</th>\n",
       "      <th>전용면적별세대수</th>\n",
       "      <th>공가수</th>\n",
       "      <th>자격유형</th>\n",
       "      <th>임대보증금</th>\n",
       "      <th>임대료</th>\n",
       "      <th>10분내지하철수</th>\n",
       "      <th>10분내버스정류장수</th>\n",
       "      <th>단지내주차면수</th>\n",
       "      <th>등록차량수</th>\n",
       "    </tr>\n",
       "  </thead>\n",
       "  <tbody>\n",
       "    <tr>\n",
       "      <th>2293</th>\n",
       "      <td>N2431</td>\n",
       "      <td>1047</td>\n",
       "      <td>아파트</td>\n",
       "      <td>경상남도</td>\n",
       "      <td>공공임대(10년)</td>\n",
       "      <td>74.97</td>\n",
       "      <td>80</td>\n",
       "      <td>15.0</td>\n",
       "      <td>A</td>\n",
       "      <td>46000000</td>\n",
       "      <td>456000</td>\n",
       "      <td>NaN</td>\n",
       "      <td>NaN</td>\n",
       "      <td>1066.0</td>\n",
       "      <td>1214.0</td>\n",
       "    </tr>\n",
       "    <tr>\n",
       "      <th>2294</th>\n",
       "      <td>N2431</td>\n",
       "      <td>1047</td>\n",
       "      <td>아파트</td>\n",
       "      <td>경상남도</td>\n",
       "      <td>공공임대(10년)</td>\n",
       "      <td>84.95</td>\n",
       "      <td>124</td>\n",
       "      <td>15.0</td>\n",
       "      <td>A</td>\n",
       "      <td>57000000</td>\n",
       "      <td>462000</td>\n",
       "      <td>NaN</td>\n",
       "      <td>NaN</td>\n",
       "      <td>1066.0</td>\n",
       "      <td>1214.0</td>\n",
       "    </tr>\n",
       "    <tr>\n",
       "      <th>2295</th>\n",
       "      <td>N2431</td>\n",
       "      <td>1047</td>\n",
       "      <td>아파트</td>\n",
       "      <td>경상남도</td>\n",
       "      <td>공공임대(10년)</td>\n",
       "      <td>84.96</td>\n",
       "      <td>289</td>\n",
       "      <td>15.0</td>\n",
       "      <td>A</td>\n",
       "      <td>57000000</td>\n",
       "      <td>462000</td>\n",
       "      <td>NaN</td>\n",
       "      <td>NaN</td>\n",
       "      <td>1066.0</td>\n",
       "      <td>1214.0</td>\n",
       "    </tr>\n",
       "    <tr>\n",
       "      <th>2296</th>\n",
       "      <td>N2431</td>\n",
       "      <td>1047</td>\n",
       "      <td>아파트</td>\n",
       "      <td>경상남도</td>\n",
       "      <td>공공임대(10년)</td>\n",
       "      <td>84.98</td>\n",
       "      <td>82</td>\n",
       "      <td>15.0</td>\n",
       "      <td>A</td>\n",
       "      <td>57000000</td>\n",
       "      <td>462000</td>\n",
       "      <td>NaN</td>\n",
       "      <td>NaN</td>\n",
       "      <td>1066.0</td>\n",
       "      <td>1214.0</td>\n",
       "    </tr>\n",
       "  </tbody>\n",
       "</table>\n",
       "</div>"
      ],
      "text/plain": [
       "       단지코드  총세대수 임대건물구분    지역       공급유형   전용면적  전용면적별세대수   공가수 자격유형  \\\n",
       "2293  N2431  1047    아파트  경상남도  공공임대(10년)  74.97        80  15.0    A   \n",
       "2294  N2431  1047    아파트  경상남도  공공임대(10년)  84.95       124  15.0    A   \n",
       "2295  N2431  1047    아파트  경상남도  공공임대(10년)  84.96       289  15.0    A   \n",
       "2296  N2431  1047    아파트  경상남도  공공임대(10년)  84.98        82  15.0    A   \n",
       "\n",
       "         임대보증금     임대료  10분내지하철수  10분내버스정류장수  단지내주차면수   등록차량수  \n",
       "2293  46000000  456000       NaN         NaN   1066.0  1214.0  \n",
       "2294  57000000  462000       NaN         NaN   1066.0  1214.0  \n",
       "2295  57000000  462000       NaN         NaN   1066.0  1214.0  \n",
       "2296  57000000  462000       NaN         NaN   1066.0  1214.0  "
      ]
     },
     "execution_count": 8,
     "metadata": {},
     "output_type": "execute_result"
    }
   ],
   "source": [
    "train_df.loc[train_df['10분내버스정류장수'].isnull(),:]"
   ]
  },
  {
   "cell_type": "code",
   "execution_count": 9,
   "metadata": {},
   "outputs": [
    {
     "data": {
      "text/plain": [
       "2.0     776\n",
       "3.0     737\n",
       "4.0     485\n",
       "1.0     270\n",
       "5.0     162\n",
       "6.0     153\n",
       "8.0      99\n",
       "10.0     80\n",
       "7.0      65\n",
       "12.0     22\n",
       "20.0     15\n",
       "15.0     11\n",
       "16.0      6\n",
       "19.0      4\n",
       "11.0      3\n",
       "14.0      2\n",
       "0.0       2\n",
       "Name: 10분내버스정류장수, dtype: int64"
      ]
     },
     "execution_count": 9,
     "metadata": {},
     "output_type": "execute_result"
    }
   ],
   "source": [
    "train_df['10분내버스정류장수'].value_counts()"
   ]
  },
  {
   "cell_type": "code",
   "execution_count": 10,
   "metadata": {},
   "outputs": [
    {
     "data": {
      "text/html": [
       "<div>\n",
       "<style scoped>\n",
       "    .dataframe tbody tr th:only-of-type {\n",
       "        vertical-align: middle;\n",
       "    }\n",
       "\n",
       "    .dataframe tbody tr th {\n",
       "        vertical-align: top;\n",
       "    }\n",
       "\n",
       "    .dataframe thead th {\n",
       "        text-align: right;\n",
       "    }\n",
       "</style>\n",
       "<table border=\"1\" class=\"dataframe\">\n",
       "  <thead>\n",
       "    <tr style=\"text-align: right;\">\n",
       "      <th></th>\n",
       "      <th>단지코드</th>\n",
       "      <th>총세대수</th>\n",
       "      <th>임대건물구분</th>\n",
       "      <th>지역</th>\n",
       "      <th>공급유형</th>\n",
       "      <th>전용면적</th>\n",
       "      <th>전용면적별세대수</th>\n",
       "      <th>공가수</th>\n",
       "      <th>자격유형</th>\n",
       "      <th>임대보증금</th>\n",
       "      <th>임대료</th>\n",
       "      <th>10분내지하철수</th>\n",
       "      <th>10분내버스정류장수</th>\n",
       "      <th>단지내주차면수</th>\n",
       "      <th>등록차량수</th>\n",
       "    </tr>\n",
       "  </thead>\n",
       "  <tbody>\n",
       "  </tbody>\n",
       "</table>\n",
       "</div>"
      ],
      "text/plain": [
       "Empty DataFrame\n",
       "Columns: [단지코드, 총세대수, 임대건물구분, 지역, 공급유형, 전용면적, 전용면적별세대수, 공가수, 자격유형, 임대보증금, 임대료, 10분내지하철수, 10분내버스정류장수, 단지내주차면수, 등록차량수]\n",
       "Index: []"
      ]
     },
     "execution_count": 10,
     "metadata": {},
     "output_type": "execute_result"
    }
   ],
   "source": [
    "### 최빈값인 2로 채운다.\n",
    "train_df.loc[ train_df['10분내버스정류장수'].isnull(), \"10분내버스정류장수\"] = 2\n",
    "train_df.loc[ train_df['10분내버스정류장수'].isnull(), :]"
   ]
  },
  {
   "cell_type": "markdown",
   "metadata": {},
   "source": [
    "#### 3.자격유형 mapping처리"
   ]
  },
  {
   "cell_type": "code",
   "execution_count": 11,
   "metadata": {},
   "outputs": [
    {
     "name": "stdout",
     "output_type": "stream",
     "text": [
      "['A' 'B' 'C' 'D' 'E' 'F' 'G' 'H' 'I' 'J' 'K' 'L' 'M' 'N' 'O']\n",
      "['H' 'A' 'E' 'C' 'D' 'G' 'I' 'J' 'K' 'L' 'M' 'N']\n"
     ]
    },
    {
     "data": {
      "text/html": [
       "<div>\n",
       "<style scoped>\n",
       "    .dataframe tbody tr th:only-of-type {\n",
       "        vertical-align: middle;\n",
       "    }\n",
       "\n",
       "    .dataframe tbody tr th {\n",
       "        vertical-align: top;\n",
       "    }\n",
       "\n",
       "    .dataframe thead th {\n",
       "        text-align: right;\n",
       "    }\n",
       "</style>\n",
       "<table border=\"1\" class=\"dataframe\">\n",
       "  <thead>\n",
       "    <tr style=\"text-align: right;\">\n",
       "      <th></th>\n",
       "      <th>단지코드</th>\n",
       "      <th>총세대수</th>\n",
       "      <th>임대건물구분</th>\n",
       "      <th>지역</th>\n",
       "      <th>공급유형</th>\n",
       "      <th>전용면적</th>\n",
       "      <th>전용면적별세대수</th>\n",
       "      <th>공가수</th>\n",
       "      <th>자격유형</th>\n",
       "      <th>임대보증금</th>\n",
       "      <th>임대료</th>\n",
       "      <th>10분내지하철수</th>\n",
       "      <th>10분내버스정류장수</th>\n",
       "      <th>단지내주차면수</th>\n",
       "      <th>등록차량수</th>\n",
       "    </tr>\n",
       "  </thead>\n",
       "  <tbody>\n",
       "    <tr>\n",
       "      <th>0</th>\n",
       "      <td>C2515</td>\n",
       "      <td>545</td>\n",
       "      <td>아파트</td>\n",
       "      <td>경상남도</td>\n",
       "      <td>국민임대</td>\n",
       "      <td>33.48</td>\n",
       "      <td>276</td>\n",
       "      <td>17.0</td>\n",
       "      <td>1</td>\n",
       "      <td>9216000</td>\n",
       "      <td>82940</td>\n",
       "      <td>0.0</td>\n",
       "      <td>3.0</td>\n",
       "      <td>624.0</td>\n",
       "      <td>205.0</td>\n",
       "    </tr>\n",
       "    <tr>\n",
       "      <th>1</th>\n",
       "      <td>C2515</td>\n",
       "      <td>545</td>\n",
       "      <td>아파트</td>\n",
       "      <td>경상남도</td>\n",
       "      <td>국민임대</td>\n",
       "      <td>39.60</td>\n",
       "      <td>60</td>\n",
       "      <td>17.0</td>\n",
       "      <td>1</td>\n",
       "      <td>12672000</td>\n",
       "      <td>107130</td>\n",
       "      <td>0.0</td>\n",
       "      <td>3.0</td>\n",
       "      <td>624.0</td>\n",
       "      <td>205.0</td>\n",
       "    </tr>\n",
       "    <tr>\n",
       "      <th>2</th>\n",
       "      <td>C2515</td>\n",
       "      <td>545</td>\n",
       "      <td>아파트</td>\n",
       "      <td>경상남도</td>\n",
       "      <td>국민임대</td>\n",
       "      <td>39.60</td>\n",
       "      <td>20</td>\n",
       "      <td>17.0</td>\n",
       "      <td>1</td>\n",
       "      <td>12672000</td>\n",
       "      <td>107130</td>\n",
       "      <td>0.0</td>\n",
       "      <td>3.0</td>\n",
       "      <td>624.0</td>\n",
       "      <td>205.0</td>\n",
       "    </tr>\n",
       "    <tr>\n",
       "      <th>3</th>\n",
       "      <td>C2515</td>\n",
       "      <td>545</td>\n",
       "      <td>아파트</td>\n",
       "      <td>경상남도</td>\n",
       "      <td>국민임대</td>\n",
       "      <td>46.90</td>\n",
       "      <td>38</td>\n",
       "      <td>17.0</td>\n",
       "      <td>1</td>\n",
       "      <td>18433000</td>\n",
       "      <td>149760</td>\n",
       "      <td>0.0</td>\n",
       "      <td>3.0</td>\n",
       "      <td>624.0</td>\n",
       "      <td>205.0</td>\n",
       "    </tr>\n",
       "    <tr>\n",
       "      <th>4</th>\n",
       "      <td>C2515</td>\n",
       "      <td>545</td>\n",
       "      <td>아파트</td>\n",
       "      <td>경상남도</td>\n",
       "      <td>국민임대</td>\n",
       "      <td>46.90</td>\n",
       "      <td>19</td>\n",
       "      <td>17.0</td>\n",
       "      <td>1</td>\n",
       "      <td>18433000</td>\n",
       "      <td>149760</td>\n",
       "      <td>0.0</td>\n",
       "      <td>3.0</td>\n",
       "      <td>624.0</td>\n",
       "      <td>205.0</td>\n",
       "    </tr>\n",
       "  </tbody>\n",
       "</table>\n",
       "</div>"
      ],
      "text/plain": [
       "    단지코드  총세대수 임대건물구분    지역  공급유형   전용면적  전용면적별세대수   공가수  자격유형     임대보증금  \\\n",
       "0  C2515   545    아파트  경상남도  국민임대  33.48       276  17.0     1   9216000   \n",
       "1  C2515   545    아파트  경상남도  국민임대  39.60        60  17.0     1  12672000   \n",
       "2  C2515   545    아파트  경상남도  국민임대  39.60        20  17.0     1  12672000   \n",
       "3  C2515   545    아파트  경상남도  국민임대  46.90        38  17.0     1  18433000   \n",
       "4  C2515   545    아파트  경상남도  국민임대  46.90        19  17.0     1  18433000   \n",
       "\n",
       "      임대료  10분내지하철수  10분내버스정류장수  단지내주차면수  등록차량수  \n",
       "0   82940       0.0         3.0    624.0  205.0  \n",
       "1  107130       0.0         3.0    624.0  205.0  \n",
       "2  107130       0.0         3.0    624.0  205.0  \n",
       "3  149760       0.0         3.0    624.0  205.0  \n",
       "4  149760       0.0         3.0    624.0  205.0  "
      ]
     },
     "execution_count": 11,
     "metadata": {},
     "output_type": "execute_result"
    }
   ],
   "source": [
    "print(train_df.자격유형.unique())\n",
    "print(test_df.자격유형.unique())\n",
    "mapping = { 'A':1, 'B':2, 'C':3, 'D':4, 'E':5,\n",
    "            'F':6, 'G':7, 'H':8, 'I':9, 'J':10,\n",
    "            'K':11, 'L':12, 'M':13, 'N':14, 'O':15  }\n",
    "train_df['자격유형'] =train_df['자격유형'].map(mapping).astype(int)\n",
    "test_df['자격유형'] =test_df['자격유형'].map(mapping).astype(int)\n",
    "train_df.head()"
   ]
  },
  {
   "cell_type": "markdown",
   "metadata": {},
   "source": [
    "#### 4.10분내지하철수결측치 처리"
   ]
  },
  {
   "cell_type": "code",
   "execution_count": 12,
   "metadata": {},
   "outputs": [
    {
     "data": {
      "text/plain": [
       "array([ 0.,  1., nan,  2.,  3.])"
      ]
     },
     "execution_count": 12,
     "metadata": {},
     "output_type": "execute_result"
    }
   ],
   "source": [
    "train_df['10분내지하철수'].unique()"
   ]
  },
  {
   "cell_type": "code",
   "execution_count": 13,
   "metadata": {},
   "outputs": [
    {
     "name": "stdout",
     "output_type": "stream",
     "text": [
      "0.0    2246\n",
      "1.0     400\n",
      "2.0      33\n",
      "3.0       6\n",
      "Name: 10분내지하철수, dtype: int64\n"
     ]
    }
   ],
   "source": [
    "print(train_df['10분내지하철수'].value_counts())"
   ]
  },
  {
   "cell_type": "code",
   "execution_count": 14,
   "metadata": {},
   "outputs": [],
   "source": [
    "#결측치 처리\n",
    "train_df['10분내지하철수'] = train_df['10분내지하철수'].fillna(0.0)\n",
    "test_df['10분내지하철수'] = test_df['10분내지하철수'].fillna(0.0)"
   ]
  },
  {
   "cell_type": "markdown",
   "metadata": {},
   "source": [
    "#### 5.임대보증금 결측치 처리하기"
   ]
  },
  {
   "cell_type": "code",
   "execution_count": 15,
   "metadata": {
    "scrolled": true
   },
   "outputs": [
    {
     "data": {
      "text/html": [
       "<div>\n",
       "<style scoped>\n",
       "    .dataframe tbody tr th:only-of-type {\n",
       "        vertical-align: middle;\n",
       "    }\n",
       "\n",
       "    .dataframe tbody tr th {\n",
       "        vertical-align: top;\n",
       "    }\n",
       "\n",
       "    .dataframe thead th {\n",
       "        text-align: right;\n",
       "    }\n",
       "</style>\n",
       "<table border=\"1\" class=\"dataframe\">\n",
       "  <thead>\n",
       "    <tr style=\"text-align: right;\">\n",
       "      <th></th>\n",
       "      <th>단지코드</th>\n",
       "      <th>총세대수</th>\n",
       "      <th>임대건물구분</th>\n",
       "      <th>지역</th>\n",
       "      <th>공급유형</th>\n",
       "      <th>전용면적</th>\n",
       "      <th>전용면적별세대수</th>\n",
       "      <th>공가수</th>\n",
       "      <th>자격유형</th>\n",
       "      <th>임대보증금</th>\n",
       "      <th>임대료</th>\n",
       "      <th>10분내지하철수</th>\n",
       "      <th>10분내버스정류장수</th>\n",
       "      <th>단지내주차면수</th>\n",
       "      <th>등록차량수</th>\n",
       "    </tr>\n",
       "  </thead>\n",
       "  <tbody>\n",
       "    <tr>\n",
       "      <th>80</th>\n",
       "      <td>C1925</td>\n",
       "      <td>601</td>\n",
       "      <td>상가</td>\n",
       "      <td>강원도</td>\n",
       "      <td>임대상가</td>\n",
       "      <td>32.10</td>\n",
       "      <td>1</td>\n",
       "      <td>9.0</td>\n",
       "      <td>4</td>\n",
       "      <td>NaN</td>\n",
       "      <td>NaN</td>\n",
       "      <td>0.0</td>\n",
       "      <td>4.0</td>\n",
       "      <td>117.0</td>\n",
       "      <td>75.0</td>\n",
       "    </tr>\n",
       "    <tr>\n",
       "      <th>81</th>\n",
       "      <td>C1925</td>\n",
       "      <td>601</td>\n",
       "      <td>상가</td>\n",
       "      <td>강원도</td>\n",
       "      <td>임대상가</td>\n",
       "      <td>32.10</td>\n",
       "      <td>1</td>\n",
       "      <td>9.0</td>\n",
       "      <td>4</td>\n",
       "      <td>NaN</td>\n",
       "      <td>NaN</td>\n",
       "      <td>0.0</td>\n",
       "      <td>4.0</td>\n",
       "      <td>117.0</td>\n",
       "      <td>75.0</td>\n",
       "    </tr>\n",
       "    <tr>\n",
       "      <th>82</th>\n",
       "      <td>C1925</td>\n",
       "      <td>601</td>\n",
       "      <td>상가</td>\n",
       "      <td>강원도</td>\n",
       "      <td>임대상가</td>\n",
       "      <td>32.10</td>\n",
       "      <td>1</td>\n",
       "      <td>9.0</td>\n",
       "      <td>4</td>\n",
       "      <td>NaN</td>\n",
       "      <td>NaN</td>\n",
       "      <td>0.0</td>\n",
       "      <td>4.0</td>\n",
       "      <td>117.0</td>\n",
       "      <td>75.0</td>\n",
       "    </tr>\n",
       "    <tr>\n",
       "      <th>83</th>\n",
       "      <td>C1925</td>\n",
       "      <td>601</td>\n",
       "      <td>상가</td>\n",
       "      <td>강원도</td>\n",
       "      <td>임대상가</td>\n",
       "      <td>72.16</td>\n",
       "      <td>1</td>\n",
       "      <td>9.0</td>\n",
       "      <td>4</td>\n",
       "      <td>NaN</td>\n",
       "      <td>NaN</td>\n",
       "      <td>0.0</td>\n",
       "      <td>4.0</td>\n",
       "      <td>117.0</td>\n",
       "      <td>75.0</td>\n",
       "    </tr>\n",
       "    <tr>\n",
       "      <th>93</th>\n",
       "      <td>C1874</td>\n",
       "      <td>619</td>\n",
       "      <td>상가</td>\n",
       "      <td>충청남도</td>\n",
       "      <td>임대상가</td>\n",
       "      <td>12.62</td>\n",
       "      <td>1</td>\n",
       "      <td>2.0</td>\n",
       "      <td>4</td>\n",
       "      <td>NaN</td>\n",
       "      <td>NaN</td>\n",
       "      <td>0.0</td>\n",
       "      <td>2.0</td>\n",
       "      <td>97.0</td>\n",
       "      <td>62.0</td>\n",
       "    </tr>\n",
       "    <tr>\n",
       "      <th>...</th>\n",
       "      <td>...</td>\n",
       "      <td>...</td>\n",
       "      <td>...</td>\n",
       "      <td>...</td>\n",
       "      <td>...</td>\n",
       "      <td>...</td>\n",
       "      <td>...</td>\n",
       "      <td>...</td>\n",
       "      <td>...</td>\n",
       "      <td>...</td>\n",
       "      <td>...</td>\n",
       "      <td>...</td>\n",
       "      <td>...</td>\n",
       "      <td>...</td>\n",
       "      <td>...</td>\n",
       "    </tr>\n",
       "    <tr>\n",
       "      <th>2311</th>\n",
       "      <td>C1350</td>\n",
       "      <td>1401</td>\n",
       "      <td>아파트</td>\n",
       "      <td>대전광역시</td>\n",
       "      <td>공공분양</td>\n",
       "      <td>74.94</td>\n",
       "      <td>22</td>\n",
       "      <td>2.0</td>\n",
       "      <td>4</td>\n",
       "      <td>NaN</td>\n",
       "      <td>NaN</td>\n",
       "      <td>0.0</td>\n",
       "      <td>6.0</td>\n",
       "      <td>1636.0</td>\n",
       "      <td>2315.0</td>\n",
       "    </tr>\n",
       "    <tr>\n",
       "      <th>2312</th>\n",
       "      <td>C1350</td>\n",
       "      <td>1401</td>\n",
       "      <td>아파트</td>\n",
       "      <td>대전광역시</td>\n",
       "      <td>공공분양</td>\n",
       "      <td>84.94</td>\n",
       "      <td>164</td>\n",
       "      <td>2.0</td>\n",
       "      <td>4</td>\n",
       "      <td>NaN</td>\n",
       "      <td>NaN</td>\n",
       "      <td>0.0</td>\n",
       "      <td>6.0</td>\n",
       "      <td>1636.0</td>\n",
       "      <td>2315.0</td>\n",
       "    </tr>\n",
       "    <tr>\n",
       "      <th>2313</th>\n",
       "      <td>C1350</td>\n",
       "      <td>1401</td>\n",
       "      <td>아파트</td>\n",
       "      <td>대전광역시</td>\n",
       "      <td>공공분양</td>\n",
       "      <td>84.94</td>\n",
       "      <td>19</td>\n",
       "      <td>2.0</td>\n",
       "      <td>4</td>\n",
       "      <td>NaN</td>\n",
       "      <td>NaN</td>\n",
       "      <td>0.0</td>\n",
       "      <td>6.0</td>\n",
       "      <td>1636.0</td>\n",
       "      <td>2315.0</td>\n",
       "    </tr>\n",
       "    <tr>\n",
       "      <th>2314</th>\n",
       "      <td>C1350</td>\n",
       "      <td>1401</td>\n",
       "      <td>아파트</td>\n",
       "      <td>대전광역시</td>\n",
       "      <td>공공분양</td>\n",
       "      <td>84.96</td>\n",
       "      <td>26</td>\n",
       "      <td>2.0</td>\n",
       "      <td>4</td>\n",
       "      <td>NaN</td>\n",
       "      <td>NaN</td>\n",
       "      <td>0.0</td>\n",
       "      <td>6.0</td>\n",
       "      <td>1636.0</td>\n",
       "      <td>2315.0</td>\n",
       "    </tr>\n",
       "    <tr>\n",
       "      <th>2315</th>\n",
       "      <td>C1350</td>\n",
       "      <td>1401</td>\n",
       "      <td>아파트</td>\n",
       "      <td>대전광역시</td>\n",
       "      <td>공공분양</td>\n",
       "      <td>84.97</td>\n",
       "      <td>26</td>\n",
       "      <td>2.0</td>\n",
       "      <td>4</td>\n",
       "      <td>NaN</td>\n",
       "      <td>NaN</td>\n",
       "      <td>0.0</td>\n",
       "      <td>6.0</td>\n",
       "      <td>1636.0</td>\n",
       "      <td>2315.0</td>\n",
       "    </tr>\n",
       "  </tbody>\n",
       "</table>\n",
       "<p>569 rows × 15 columns</p>\n",
       "</div>"
      ],
      "text/plain": [
       "       단지코드  총세대수 임대건물구분     지역  공급유형   전용면적  전용면적별세대수  공가수  자격유형 임대보증금  임대료  \\\n",
       "80    C1925   601     상가    강원도  임대상가  32.10         1  9.0     4   NaN  NaN   \n",
       "81    C1925   601     상가    강원도  임대상가  32.10         1  9.0     4   NaN  NaN   \n",
       "82    C1925   601     상가    강원도  임대상가  32.10         1  9.0     4   NaN  NaN   \n",
       "83    C1925   601     상가    강원도  임대상가  72.16         1  9.0     4   NaN  NaN   \n",
       "93    C1874   619     상가   충청남도  임대상가  12.62         1  2.0     4   NaN  NaN   \n",
       "...     ...   ...    ...    ...   ...    ...       ...  ...   ...   ...  ...   \n",
       "2311  C1350  1401    아파트  대전광역시  공공분양  74.94        22  2.0     4   NaN  NaN   \n",
       "2312  C1350  1401    아파트  대전광역시  공공분양  84.94       164  2.0     4   NaN  NaN   \n",
       "2313  C1350  1401    아파트  대전광역시  공공분양  84.94        19  2.0     4   NaN  NaN   \n",
       "2314  C1350  1401    아파트  대전광역시  공공분양  84.96        26  2.0     4   NaN  NaN   \n",
       "2315  C1350  1401    아파트  대전광역시  공공분양  84.97        26  2.0     4   NaN  NaN   \n",
       "\n",
       "      10분내지하철수  10분내버스정류장수  단지내주차면수   등록차량수  \n",
       "80         0.0         4.0    117.0    75.0  \n",
       "81         0.0         4.0    117.0    75.0  \n",
       "82         0.0         4.0    117.0    75.0  \n",
       "83         0.0         4.0    117.0    75.0  \n",
       "93         0.0         2.0     97.0    62.0  \n",
       "...        ...         ...      ...     ...  \n",
       "2311       0.0         6.0   1636.0  2315.0  \n",
       "2312       0.0         6.0   1636.0  2315.0  \n",
       "2313       0.0         6.0   1636.0  2315.0  \n",
       "2314       0.0         6.0   1636.0  2315.0  \n",
       "2315       0.0         6.0   1636.0  2315.0  \n",
       "\n",
       "[569 rows x 15 columns]"
      ]
     },
     "execution_count": 15,
     "metadata": {},
     "output_type": "execute_result"
    }
   ],
   "source": [
    "train_df.loc[ train_df['임대보증금'].isnull(), :]"
   ]
  },
  {
   "cell_type": "code",
   "execution_count": 16,
   "metadata": {},
   "outputs": [
    {
     "data": {
      "text/plain": [
       "array(['경상남도', '대전광역시', '경기도', '전라북도', '강원도', '광주광역시', '충청남도', '부산광역시',\n",
       "       '제주특별자치도', '울산광역시', '충청북도', '전라남도', '경상북도', '대구광역시', '서울특별시',\n",
       "       '세종특별자치시'], dtype=object)"
      ]
     },
     "execution_count": 16,
     "metadata": {},
     "output_type": "execute_result"
    }
   ],
   "source": [
    "train_df['지역'].unique()"
   ]
  },
  {
   "cell_type": "code",
   "execution_count": 17,
   "metadata": {},
   "outputs": [],
   "source": [
    "train_df[\"임대보증금\"] = train_df[\"임대보증금\"].fillna(0)\n",
    "train_df.loc[train_df[\"임대보증금\"] == \"-\", \"임대보증금\"] = 0\n",
    "train_df[\"임대보증금\"] = train_df[\"임대보증금\"].astype(int)"
   ]
  },
  {
   "cell_type": "code",
   "execution_count": 67,
   "metadata": {},
   "outputs": [],
   "source": [
    "test_df[\"임대보증금\"] = test_df[\"임대보증금\"].fillna(0)\n",
    "test_df.loc[test_df[\"임대보증금\"] == \"-\", \"임대보증금\"] = 0\n",
    "test_df[\"임대보증금\"] = test_df[\"임대보증금\"].astype(int)"
   ]
  },
  {
   "cell_type": "markdown",
   "metadata": {},
   "source": [
    "#### 경상남도 임대보증금 처리"
   ]
  },
  {
   "cell_type": "code",
   "execution_count": 18,
   "metadata": {},
   "outputs": [
    {
     "data": {
      "text/plain": [
       "16160436.314363144"
      ]
     },
     "execution_count": 18,
     "metadata": {},
     "output_type": "execute_result"
    }
   ],
   "source": [
    "grouped = train_df.groupby([ '지역'])\n",
    "group1 = grouped.get_group( ( '경상남도')  )\n",
    "val = group1['임대보증금'].mean()\n",
    "val"
   ]
  },
  {
   "cell_type": "code",
   "execution_count": 20,
   "metadata": {
    "scrolled": true
   },
   "outputs": [],
   "source": [
    "c = train_df[(train_df[\"임대보증금\"] == 0) & (train_df[\"지역\"] == \"경상남도\")].index\n",
    "train_df.loc[c, \"임대보증금\"] = val"
   ]
  },
  {
   "cell_type": "code",
   "execution_count": 68,
   "metadata": {},
   "outputs": [
    {
     "data": {
      "text/plain": [
       "27713976.470588237"
      ]
     },
     "execution_count": 68,
     "metadata": {},
     "output_type": "execute_result"
    }
   ],
   "source": [
    "grouped = test_df.groupby([ '지역'])\n",
    "group1 = grouped.get_group( ( '경상남도')  )\n",
    "val = group1['임대보증금'].mean()\n",
    "val"
   ]
  },
  {
   "cell_type": "code",
   "execution_count": 69,
   "metadata": {},
   "outputs": [],
   "source": [
    "c = test_df[(test_df[\"임대보증금\"] == 0) & (test_df[\"지역\"] == \"경상남도\")].index\n",
    "test_df.loc[c, \"임대보증금\"] = val"
   ]
  },
  {
   "cell_type": "markdown",
   "metadata": {},
   "source": [
    "#### 대전광역시 임대보증금 처리"
   ]
  },
  {
   "cell_type": "code",
   "execution_count": 22,
   "metadata": {},
   "outputs": [
    {
     "data": {
      "text/plain": [
       "12931199.2481203"
      ]
     },
     "execution_count": 22,
     "metadata": {},
     "output_type": "execute_result"
    }
   ],
   "source": [
    "grouped = train_df.groupby([ '지역'])\n",
    "group1 = grouped.get_group( ( '대전광역시')  )\n",
    "val = group1['임대보증금'].mean()\n",
    "val"
   ]
  },
  {
   "cell_type": "code",
   "execution_count": 24,
   "metadata": {},
   "outputs": [],
   "source": [
    "a = train_df[(train_df[\"임대보증금\"] == 0) & (train_df[\"지역\"] == \"대전광역시\")].index\n",
    "train_df.loc[a, \"임대보증금\"] = val"
   ]
  },
  {
   "cell_type": "code",
   "execution_count": 70,
   "metadata": {},
   "outputs": [
    {
     "data": {
      "text/plain": [
       "14195269.23076923"
      ]
     },
     "execution_count": 70,
     "metadata": {},
     "output_type": "execute_result"
    }
   ],
   "source": [
    "grouped = test_df.groupby([ '지역'])\n",
    "group1 = grouped.get_group( ( '대전광역시')  )\n",
    "val = group1['임대보증금'].mean()\n",
    "val"
   ]
  },
  {
   "cell_type": "code",
   "execution_count": 73,
   "metadata": {},
   "outputs": [],
   "source": [
    "a = test_df[(test_df[\"임대보증금\"] == 0) & (test_df[\"지역\"] == \"대전광역시\")].index\n",
    "test_df.loc[a, \"임대보증금\"] = val"
   ]
  },
  {
   "cell_type": "markdown",
   "metadata": {},
   "source": [
    "#### 경기도 임대보증금 처리"
   ]
  },
  {
   "cell_type": "code",
   "execution_count": 26,
   "metadata": {},
   "outputs": [
    {
     "data": {
      "text/plain": [
       "32787275.747508306"
      ]
     },
     "execution_count": 26,
     "metadata": {},
     "output_type": "execute_result"
    }
   ],
   "source": [
    "grouped = train_df.groupby([ '지역'])\n",
    "group1 = grouped.get_group( ( '경기도')  )\n",
    "val = group1['임대보증금'].mean()\n",
    "val"
   ]
  },
  {
   "cell_type": "code",
   "execution_count": 27,
   "metadata": {},
   "outputs": [],
   "source": [
    "b = train_df[(train_df[\"임대보증금\"] == 0) & (train_df[\"지역\"] == \"경기도\")].index\n",
    "train_df.loc[b, \"임대보증금\"] = val"
   ]
  },
  {
   "cell_type": "code",
   "execution_count": 74,
   "metadata": {},
   "outputs": [
    {
     "data": {
      "text/plain": [
       "32036721.11553785"
      ]
     },
     "execution_count": 74,
     "metadata": {},
     "output_type": "execute_result"
    }
   ],
   "source": [
    "grouped = test_df.groupby([ '지역'])\n",
    "group1 = grouped.get_group( ( '경기도')  )\n",
    "val = group1['임대보증금'].mean()\n",
    "val"
   ]
  },
  {
   "cell_type": "code",
   "execution_count": 75,
   "metadata": {},
   "outputs": [],
   "source": [
    "b = test_df[(test_df[\"임대보증금\"] == 0) & (test_df[\"지역\"] == \"경기도\")].index\n",
    "test_df.loc[b, \"임대보증금\"] = val"
   ]
  },
  {
   "cell_type": "markdown",
   "metadata": {},
   "source": [
    "#### 전라북도 임대보증금 처리"
   ]
  },
  {
   "cell_type": "code",
   "execution_count": 28,
   "metadata": {},
   "outputs": [
    {
     "data": {
      "text/plain": [
       "19154669.724770643"
      ]
     },
     "execution_count": 28,
     "metadata": {},
     "output_type": "execute_result"
    }
   ],
   "source": [
    "grouped = train_df.groupby([ '지역'])\n",
    "group1 = grouped.get_group( ( '전라북도')  )\n",
    "val = group1['임대보증금'].mean()\n",
    "val"
   ]
  },
  {
   "cell_type": "code",
   "execution_count": 29,
   "metadata": {},
   "outputs": [],
   "source": [
    "d = train_df[(train_df[\"임대보증금\"] == 0) & (train_df[\"지역\"] == \"전라북도\")].index\n",
    "train_df.loc[d, \"임대보증금\"] = val"
   ]
  },
  {
   "cell_type": "code",
   "execution_count": 76,
   "metadata": {},
   "outputs": [
    {
     "data": {
      "text/plain": [
       "20900205.128205128"
      ]
     },
     "execution_count": 76,
     "metadata": {},
     "output_type": "execute_result"
    }
   ],
   "source": [
    "grouped = test_df.groupby([ '지역'])\n",
    "group1 = grouped.get_group( ( '전라북도')  )\n",
    "val = group1['임대보증금'].mean()\n",
    "val"
   ]
  },
  {
   "cell_type": "code",
   "execution_count": 77,
   "metadata": {},
   "outputs": [],
   "source": [
    "d = test_df[(test_df[\"임대보증금\"] == 0) & (test_df[\"지역\"] == \"전라북도\")].index\n",
    "test_df.loc[d, \"임대보증금\"] = val"
   ]
  },
  {
   "cell_type": "markdown",
   "metadata": {},
   "source": [
    "#### 강원도 임대보증금 처리"
   ]
  },
  {
   "cell_type": "code",
   "execution_count": 32,
   "metadata": {},
   "outputs": [
    {
     "data": {
      "text/plain": [
       "18220585.242604133"
      ]
     },
     "execution_count": 32,
     "metadata": {},
     "output_type": "execute_result"
    }
   ],
   "source": [
    "grouped = train_df.groupby([ '지역'])\n",
    "group1 = grouped.get_group( ( '강원도')  )\n",
    "val = group1['임대보증금'].mean()\n",
    "val"
   ]
  },
  {
   "cell_type": "code",
   "execution_count": 33,
   "metadata": {},
   "outputs": [],
   "source": [
    "e = train_df[(train_df[\"임대보증금\"] == 0) & (train_df[\"지역\"] == \"강원도\")].index\n",
    "train_df.loc[e, \"임대보증금\"] = val"
   ]
  },
  {
   "cell_type": "code",
   "execution_count": 78,
   "metadata": {},
   "outputs": [
    {
     "data": {
      "text/plain": [
       "8682783.018867925"
      ]
     },
     "execution_count": 78,
     "metadata": {},
     "output_type": "execute_result"
    }
   ],
   "source": [
    "grouped = test_df.groupby([ '지역'])\n",
    "group1 = grouped.get_group( ( '강원도')  )\n",
    "val = group1['임대보증금'].mean()\n",
    "val"
   ]
  },
  {
   "cell_type": "code",
   "execution_count": 80,
   "metadata": {},
   "outputs": [],
   "source": [
    "e = test_df[(test_df[\"임대보증금\"] == 0) & (test_df[\"지역\"] == \"강원도\")].index\n",
    "test_df.loc[e, \"임대보증금\"] = val"
   ]
  },
  {
   "cell_type": "markdown",
   "metadata": {},
   "source": [
    "#### 광주광역시 임대보증금 처리"
   ]
  },
  {
   "cell_type": "code",
   "execution_count": 34,
   "metadata": {},
   "outputs": [
    {
     "data": {
      "text/plain": [
       "28588851.063829787"
      ]
     },
     "execution_count": 34,
     "metadata": {},
     "output_type": "execute_result"
    }
   ],
   "source": [
    "grouped = train_df.groupby([ '지역'])\n",
    "group1 = grouped.get_group( ( '광주광역시')  )\n",
    "val = group1['임대보증금'].mean()\n",
    "val"
   ]
  },
  {
   "cell_type": "code",
   "execution_count": 35,
   "metadata": {},
   "outputs": [],
   "source": [
    "f = train_df[(train_df[\"임대보증금\"] == 0) & (train_df[\"지역\"] == \"광주광역시\")].index\n",
    "train_df.loc[f, \"임대보증금\"] = val"
   ]
  },
  {
   "cell_type": "code",
   "execution_count": 81,
   "metadata": {},
   "outputs": [
    {
     "data": {
      "text/plain": [
       "22726500.0"
      ]
     },
     "execution_count": 81,
     "metadata": {},
     "output_type": "execute_result"
    }
   ],
   "source": [
    "grouped = test_df.groupby([ '지역'])\n",
    "group1 = grouped.get_group( ( '광주광역시')  )\n",
    "val = group1['임대보증금'].mean()\n",
    "val"
   ]
  },
  {
   "cell_type": "code",
   "execution_count": 83,
   "metadata": {},
   "outputs": [
    {
     "name": "stderr",
     "output_type": "stream",
     "text": [
      "<ipython-input-83-4dab188a9dfd>:1: UserWarning: Boolean Series key will be reindexed to match DataFrame index.\n",
      "  f = test_df[(train_df[\"임대보증금\"] == 0) & (test_df[\"지역\"] == \"광주광역시\")].index\n"
     ]
    }
   ],
   "source": [
    "f = test_df[(train_df[\"임대보증금\"] == 0) & (test_df[\"지역\"] == \"광주광역시\")].index\n",
    "test_df.loc[f, \"임대보증금\"] = val"
   ]
  },
  {
   "cell_type": "markdown",
   "metadata": {},
   "source": [
    "#### 충청남도 임대보증금 처리"
   ]
  },
  {
   "cell_type": "code",
   "execution_count": 36,
   "metadata": {},
   "outputs": [
    {
     "data": {
      "text/plain": [
       "9905058.227848101"
      ]
     },
     "execution_count": 36,
     "metadata": {},
     "output_type": "execute_result"
    }
   ],
   "source": [
    "grouped = train_df.groupby([ '지역'])\n",
    "group1 = grouped.get_group( ( '충청남도')  )\n",
    "val = group1['임대보증금'].mean()\n",
    "val"
   ]
  },
  {
   "cell_type": "code",
   "execution_count": 37,
   "metadata": {},
   "outputs": [],
   "source": [
    "g = train_df[(train_df[\"임대보증금\"] == 0) & (train_df[\"지역\"] == \"충청남도\")].index\n",
    "train_df.loc[g, \"임대보증금\"] = val"
   ]
  },
  {
   "cell_type": "code",
   "execution_count": 84,
   "metadata": {},
   "outputs": [
    {
     "data": {
      "text/plain": [
       "10396682.92682927"
      ]
     },
     "execution_count": 84,
     "metadata": {},
     "output_type": "execute_result"
    }
   ],
   "source": [
    "grouped = test_df.groupby([ '지역'])\n",
    "group1 = grouped.get_group( ( '충청남도')  )\n",
    "val = group1['임대보증금'].mean()\n",
    "val"
   ]
  },
  {
   "cell_type": "code",
   "execution_count": 85,
   "metadata": {},
   "outputs": [
    {
     "name": "stderr",
     "output_type": "stream",
     "text": [
      "<ipython-input-85-c22a222abb97>:1: UserWarning: Boolean Series key will be reindexed to match DataFrame index.\n",
      "  g = test_df[(train_df[\"임대보증금\"] == 0) & (test_df[\"지역\"] == \"충청남도\")].index\n"
     ]
    }
   ],
   "source": [
    "g = test_df[(train_df[\"임대보증금\"] == 0) & (test_df[\"지역\"] == \"충청남도\")].index\n",
    "test_df.loc[g, \"임대보증금\"] = val"
   ]
  },
  {
   "cell_type": "markdown",
   "metadata": {},
   "source": [
    "#### 부산광역시 임대보증금 처리"
   ]
  },
  {
   "cell_type": "code",
   "execution_count": 38,
   "metadata": {},
   "outputs": [
    {
     "data": {
      "text/plain": [
       "7469609.756097561"
      ]
     },
     "execution_count": 38,
     "metadata": {},
     "output_type": "execute_result"
    }
   ],
   "source": [
    "grouped = train_df.groupby([ '지역'])\n",
    "group1 = grouped.get_group( ( '부산광역시')  )\n",
    "val = group1['임대보증금'].mean()\n",
    "val"
   ]
  },
  {
   "cell_type": "code",
   "execution_count": 39,
   "metadata": {},
   "outputs": [],
   "source": [
    "h = train_df[(train_df[\"임대보증금\"] == 0) & (train_df[\"지역\"] == \"부산광역시\")].index\n",
    "train_df.loc[h, \"임대보증금\"] = val"
   ]
  },
  {
   "cell_type": "code",
   "execution_count": 86,
   "metadata": {},
   "outputs": [
    {
     "data": {
      "text/plain": [
       "11924727.272727273"
      ]
     },
     "execution_count": 86,
     "metadata": {},
     "output_type": "execute_result"
    }
   ],
   "source": [
    "grouped = test_df.groupby([ '지역'])\n",
    "group1 = grouped.get_group( ( '부산광역시')  )\n",
    "val = group1['임대보증금'].mean()\n",
    "val"
   ]
  },
  {
   "cell_type": "code",
   "execution_count": 87,
   "metadata": {},
   "outputs": [],
   "source": [
    "h = test_df[(test_df[\"임대보증금\"] == 0) & (test_df[\"지역\"] == \"부산광역시\")].index\n",
    "test_df.loc[h, \"임대보증금\"] = val"
   ]
  },
  {
   "cell_type": "markdown",
   "metadata": {},
   "source": [
    "#### 제추특별자치도 임대보증금 처리"
   ]
  },
  {
   "cell_type": "code",
   "execution_count": 40,
   "metadata": {},
   "outputs": [
    {
     "data": {
      "text/plain": [
       "12575681.318681318"
      ]
     },
     "execution_count": 40,
     "metadata": {},
     "output_type": "execute_result"
    }
   ],
   "source": [
    "grouped = train_df.groupby([ '지역'])\n",
    "group1 = grouped.get_group( ( '제주특별자치도')  )\n",
    "val = group1['임대보증금'].mean()\n",
    "val"
   ]
  },
  {
   "cell_type": "code",
   "execution_count": 41,
   "metadata": {},
   "outputs": [],
   "source": [
    "i = train_df[(train_df[\"임대보증금\"] == 0) & (train_df[\"지역\"] == \"제주특별자치도\")].index\n",
    "train_df.loc[i, \"임대보증금\"] = val"
   ]
  },
  {
   "cell_type": "code",
   "execution_count": 88,
   "metadata": {},
   "outputs": [
    {
     "data": {
      "text/plain": [
       "14751730.76923077"
      ]
     },
     "execution_count": 88,
     "metadata": {},
     "output_type": "execute_result"
    }
   ],
   "source": [
    "grouped = test_df.groupby([ '지역'])\n",
    "group1 = grouped.get_group( ( '제주특별자치도')  )\n",
    "val = group1['임대보증금'].mean()\n",
    "val"
   ]
  },
  {
   "cell_type": "code",
   "execution_count": 89,
   "metadata": {},
   "outputs": [],
   "source": [
    "i = test_df[(test_df[\"임대보증금\"] == 0) & (test_df[\"지역\"] == \"제주특별자치도\")].index\n",
    "test_df.loc[i, \"임대보증금\"] = val"
   ]
  },
  {
   "cell_type": "markdown",
   "metadata": {},
   "source": [
    "#### 울산광역시 임대보증금 처리"
   ]
  },
  {
   "cell_type": "code",
   "execution_count": 42,
   "metadata": {},
   "outputs": [
    {
     "data": {
      "text/plain": [
       "28439970.588235293"
      ]
     },
     "execution_count": 42,
     "metadata": {},
     "output_type": "execute_result"
    }
   ],
   "source": [
    "grouped = train_df.groupby([ '지역'])\n",
    "group1 = grouped.get_group( ( '울산광역시')  )\n",
    "val = group1['임대보증금'].mean()\n",
    "val"
   ]
  },
  {
   "cell_type": "code",
   "execution_count": 43,
   "metadata": {},
   "outputs": [],
   "source": [
    "j = train_df[(train_df[\"임대보증금\"] == 0) & (train_df[\"지역\"] == \"울산광역시\")].index\n",
    "train_df.loc[j, \"임대보증금\"] = val"
   ]
  },
  {
   "cell_type": "code",
   "execution_count": 90,
   "metadata": {},
   "outputs": [
    {
     "data": {
      "text/plain": [
       "10147479.452054795"
      ]
     },
     "execution_count": 90,
     "metadata": {},
     "output_type": "execute_result"
    }
   ],
   "source": [
    "grouped = test_df.groupby([ '지역'])\n",
    "group1 = grouped.get_group( ( '울산광역시')  )\n",
    "val = group1['임대보증금'].mean()\n",
    "val"
   ]
  },
  {
   "cell_type": "code",
   "execution_count": 91,
   "metadata": {},
   "outputs": [],
   "source": [
    "j = test_df[(test_df[\"임대보증금\"] == 0) & (test_df[\"지역\"] == \"울산광역시\")].index\n",
    "test_df.loc[j, \"임대보증금\"] = val"
   ]
  },
  {
   "cell_type": "markdown",
   "metadata": {},
   "source": [
    "#### 충청북도 임대보증금 처리"
   ]
  },
  {
   "cell_type": "code",
   "execution_count": 44,
   "metadata": {},
   "outputs": [
    {
     "data": {
      "text/plain": [
       "22785411.042944785"
      ]
     },
     "execution_count": 44,
     "metadata": {},
     "output_type": "execute_result"
    }
   ],
   "source": [
    "grouped = train_df.groupby([ '지역'])\n",
    "group1 = grouped.get_group( ( '충청북도')  )\n",
    "val = group1['임대보증금'].mean()\n",
    "val"
   ]
  },
  {
   "cell_type": "code",
   "execution_count": 45,
   "metadata": {},
   "outputs": [],
   "source": [
    "k = train_df[(train_df[\"임대보증금\"] == 0) & (train_df[\"지역\"] == \"충청북도\")].index\n",
    "train_df.loc[k, \"임대보증금\"] = val"
   ]
  },
  {
   "cell_type": "code",
   "execution_count": 92,
   "metadata": {},
   "outputs": [
    {
     "data": {
      "text/plain": [
       "21051803.92156863"
      ]
     },
     "execution_count": 92,
     "metadata": {},
     "output_type": "execute_result"
    }
   ],
   "source": [
    "grouped = test_df.groupby([ '지역'])\n",
    "group1 = grouped.get_group( ( '충청북도')  )\n",
    "val = group1['임대보증금'].mean()\n",
    "val"
   ]
  },
  {
   "cell_type": "code",
   "execution_count": 93,
   "metadata": {},
   "outputs": [],
   "source": [
    "k = test_df[(test_df[\"임대보증금\"] == 0) & (test_df[\"지역\"] == \"충청북도\")].index\n",
    "test_df.loc[k, \"임대보증금\"] = val"
   ]
  },
  {
   "cell_type": "markdown",
   "metadata": {},
   "source": [
    "#### 전라남도 임대보증금 처리"
   ]
  },
  {
   "cell_type": "code",
   "execution_count": 46,
   "metadata": {},
   "outputs": [
    {
     "data": {
      "text/plain": [
       "15990530.612244898"
      ]
     },
     "execution_count": 46,
     "metadata": {},
     "output_type": "execute_result"
    }
   ],
   "source": [
    "grouped = train_df.groupby([ '지역'])\n",
    "group1 = grouped.get_group( ( '전라남도')  )\n",
    "val = group1['임대보증금'].mean()\n",
    "val"
   ]
  },
  {
   "cell_type": "code",
   "execution_count": 47,
   "metadata": {},
   "outputs": [],
   "source": [
    "l = train_df[(train_df[\"임대보증금\"] == 0) & (train_df[\"지역\"] == \"전라남도\")].index\n",
    "train_df.loc[l, \"임대보증금\"] = val"
   ]
  },
  {
   "cell_type": "code",
   "execution_count": 94,
   "metadata": {},
   "outputs": [
    {
     "data": {
      "text/plain": [
       "18153432.43243243"
      ]
     },
     "execution_count": 94,
     "metadata": {},
     "output_type": "execute_result"
    }
   ],
   "source": [
    "grouped = test_df.groupby([ '지역'])\n",
    "group1 = grouped.get_group( ( '전라남도')  )\n",
    "val = group1['임대보증금'].mean()\n",
    "val"
   ]
  },
  {
   "cell_type": "code",
   "execution_count": 97,
   "metadata": {},
   "outputs": [],
   "source": [
    "l = test_df[(test_df[\"임대보증금\"] == 0) & (test_df[\"지역\"] == \"전라남도\")].index\n",
    "test_df.loc[l, \"임대보증금\"] = val"
   ]
  },
  {
   "cell_type": "markdown",
   "metadata": {},
   "source": [
    "#### 대구광역시 임대보증금 처리"
   ]
  },
  {
   "cell_type": "code",
   "execution_count": 48,
   "metadata": {},
   "outputs": [
    {
     "data": {
      "text/plain": [
       "26201235.29411765"
      ]
     },
     "execution_count": 48,
     "metadata": {},
     "output_type": "execute_result"
    }
   ],
   "source": [
    "grouped = train_df.groupby([ '지역'])\n",
    "group1 = grouped.get_group( ( '대구광역시')  )\n",
    "val = group1['임대보증금'].mean()\n",
    "val"
   ]
  },
  {
   "cell_type": "code",
   "execution_count": 49,
   "metadata": {},
   "outputs": [],
   "source": [
    "m = train_df[(train_df[\"임대보증금\"] == 0) & (train_df[\"지역\"] == \"대구광역시\")].index\n",
    "train_df.loc[m, \"임대보증금\"] = val"
   ]
  },
  {
   "cell_type": "code",
   "execution_count": 98,
   "metadata": {},
   "outputs": [
    {
     "data": {
      "text/plain": [
       "24287055.555555556"
      ]
     },
     "execution_count": 98,
     "metadata": {},
     "output_type": "execute_result"
    }
   ],
   "source": [
    "grouped = test_df.groupby([ '지역'])\n",
    "group1 = grouped.get_group( ( '대구광역시')  )\n",
    "val = group1['임대보증금'].mean()\n",
    "val"
   ]
  },
  {
   "cell_type": "code",
   "execution_count": 99,
   "metadata": {},
   "outputs": [],
   "source": [
    "m = test_df[(test_df[\"임대보증금\"] == 0) & (test_df[\"지역\"] == \"대구광역시\")].index\n",
    "test_df.loc[m, \"임대보증금\"] = val"
   ]
  },
  {
   "cell_type": "markdown",
   "metadata": {},
   "source": [
    "#### 서울특별시 임대보증금 처리"
   ]
  },
  {
   "cell_type": "code",
   "execution_count": 50,
   "metadata": {},
   "outputs": [
    {
     "data": {
      "text/plain": [
       "87293234.375"
      ]
     },
     "execution_count": 50,
     "metadata": {},
     "output_type": "execute_result"
    }
   ],
   "source": [
    "grouped = train_df.groupby([ '지역'])\n",
    "group1 = grouped.get_group( ( '서울특별시')  )\n",
    "val = group1['임대보증금'].mean()\n",
    "val"
   ]
  },
  {
   "cell_type": "code",
   "execution_count": 51,
   "metadata": {},
   "outputs": [],
   "source": [
    "s = train_df[(train_df[\"임대보증금\"] == 0) & (train_df[\"지역\"] == \"서울특별시\")].index\n",
    "train_df.loc[s, \"임대보증금\"] = val"
   ]
  },
  {
   "cell_type": "markdown",
   "metadata": {},
   "source": [
    "#### 세종특별자치시 임대보증금 처리"
   ]
  },
  {
   "cell_type": "code",
   "execution_count": 52,
   "metadata": {},
   "outputs": [
    {
     "data": {
      "text/plain": [
       "39162500.0"
      ]
     },
     "execution_count": 52,
     "metadata": {},
     "output_type": "execute_result"
    }
   ],
   "source": [
    "grouped = train_df.groupby([ '지역'])\n",
    "group1 = grouped.get_group( ( '세종특별자치시')  )\n",
    "val = group1['임대보증금'].mean()\n",
    "val"
   ]
  },
  {
   "cell_type": "code",
   "execution_count": 53,
   "metadata": {},
   "outputs": [],
   "source": [
    "q = train_df[(train_df[\"임대보증금\"] == 0) & (train_df[\"지역\"] == \"세종특별자치시\")].index\n",
    "train_df.loc[q, \"임대보증금\"] = val"
   ]
  },
  {
   "cell_type": "code",
   "execution_count": 105,
   "metadata": {},
   "outputs": [
    {
     "data": {
      "text/plain": [
       "21100473.684210528"
      ]
     },
     "execution_count": 105,
     "metadata": {},
     "output_type": "execute_result"
    }
   ],
   "source": [
    "grouped = test_df.groupby([ '지역'])\n",
    "group1 = grouped.get_group( ( '세종특별자치시')  )\n",
    "val = group1['임대보증금'].mean()\n",
    "val"
   ]
  },
  {
   "cell_type": "code",
   "execution_count": 106,
   "metadata": {},
   "outputs": [
    {
     "name": "stderr",
     "output_type": "stream",
     "text": [
      "<ipython-input-106-b8c17cc3ec85>:1: UserWarning: Boolean Series key will be reindexed to match DataFrame index.\n",
      "  q = test_df[(train_df[\"임대보증금\"] == 0) & (test_df[\"지역\"] == \"세종특별자치시\")].index\n"
     ]
    }
   ],
   "source": [
    "q = test_df[(train_df[\"임대보증금\"] == 0) & (test_df[\"지역\"] == \"세종특별자치시\")].index\n",
    "test_df.loc[q, \"임대보증금\"] = val"
   ]
  },
  {
   "cell_type": "markdown",
   "metadata": {},
   "source": [
    "### 임대보증금 null처리 확인"
   ]
  },
  {
   "cell_type": "code",
   "execution_count": 55,
   "metadata": {},
   "outputs": [
    {
     "data": {
      "text/plain": [
       "Int64Index([], dtype='int64')"
      ]
     },
     "execution_count": 55,
     "metadata": {},
     "output_type": "execute_result"
    }
   ],
   "source": [
    "train_df[train_df[\"임대보증금\"] == 0].index"
   ]
  },
  {
   "cell_type": "markdown",
   "metadata": {},
   "source": [
    "#### 6.임대료 결측치 처리하기"
   ]
  },
  {
   "cell_type": "code",
   "execution_count": 111,
   "metadata": {},
   "outputs": [],
   "source": [
    "train_df[\"임대료\"] = train_df[\"임대료\"].fillna(0)\n",
    "train_df.loc[train_df[\"임대료\"] == \"-\", \"임대료\"] = 0\n",
    "train_df[\"임대료\"] = train_df[\"임대료\"].astype(int)"
   ]
  },
  {
   "cell_type": "code",
   "execution_count": 112,
   "metadata": {},
   "outputs": [],
   "source": [
    "test_df[\"임대료\"] = test_df[\"임대료\"].fillna(0)\n",
    "test_df.loc[test_df[\"임대료\"] == \"-\", \"임대료\"] = 0\n",
    "test_df[\"임대료\"] = test_df[\"임대료\"].astype(int)"
   ]
  },
  {
   "cell_type": "markdown",
   "metadata": {},
   "source": [
    "#### 경상남도 임대료 처리"
   ]
  },
  {
   "cell_type": "code",
   "execution_count": 113,
   "metadata": {},
   "outputs": [
    {
     "data": {
      "text/plain": [
       "121628.26558265583"
      ]
     },
     "execution_count": 113,
     "metadata": {},
     "output_type": "execute_result"
    }
   ],
   "source": [
    "grouped = train_df.groupby([ '지역'])\n",
    "group1 = grouped.get_group( ( '경상남도')  )\n",
    "val = group1['임대료'].mean()\n",
    "val"
   ]
  },
  {
   "cell_type": "code",
   "execution_count": 114,
   "metadata": {},
   "outputs": [],
   "source": [
    "c = train_df[(train_df[\"임대료\"] == 0) & (train_df[\"지역\"] == \"경상남도\")].index\n",
    "train_df.loc[c, \"임대료\"] = val"
   ]
  },
  {
   "cell_type": "code",
   "execution_count": 115,
   "metadata": {},
   "outputs": [
    {
     "data": {
      "text/plain": [
       "151825.64705882352"
      ]
     },
     "execution_count": 115,
     "metadata": {},
     "output_type": "execute_result"
    }
   ],
   "source": [
    "grouped = test_df.groupby([ '지역'])\n",
    "group1 = grouped.get_group( ( '경상남도')  )\n",
    "val = group1['임대료'].mean()\n",
    "val"
   ]
  },
  {
   "cell_type": "code",
   "execution_count": 116,
   "metadata": {},
   "outputs": [],
   "source": [
    "c = test_df[(test_df[\"임대료\"] == 0) & (test_df[\"지역\"] == \"경상남도\")].index\n",
    "test_df.loc[c, \"임대료\"] = val"
   ]
  },
  {
   "cell_type": "markdown",
   "metadata": {},
   "source": [
    "#### 대전광역시 임대료처리"
   ]
  },
  {
   "cell_type": "code",
   "execution_count": 117,
   "metadata": {},
   "outputs": [
    {
     "data": {
      "text/plain": [
       "95261.05263157895"
      ]
     },
     "execution_count": 117,
     "metadata": {},
     "output_type": "execute_result"
    }
   ],
   "source": [
    "grouped = train_df.groupby([ '지역'])\n",
    "group1 = grouped.get_group( ( '대전광역시')  )\n",
    "val = group1['임대료'].mean()\n",
    "val"
   ]
  },
  {
   "cell_type": "code",
   "execution_count": 118,
   "metadata": {},
   "outputs": [],
   "source": [
    "a = train_df[(train_df[\"임대료\"] == 0) & (train_df[\"지역\"] == \"대전광역시\")].index\n",
    "train_df.loc[a, \"임대료\"] = val"
   ]
  },
  {
   "cell_type": "code",
   "execution_count": 119,
   "metadata": {},
   "outputs": [
    {
     "data": {
      "text/plain": [
       "104696.53846153847"
      ]
     },
     "execution_count": 119,
     "metadata": {},
     "output_type": "execute_result"
    }
   ],
   "source": [
    "grouped = test_df.groupby([ '지역'])\n",
    "group1 = grouped.get_group( ( '대전광역시')  )\n",
    "val = group1['임대료'].mean()\n",
    "val"
   ]
  },
  {
   "cell_type": "code",
   "execution_count": 120,
   "metadata": {},
   "outputs": [],
   "source": [
    "a = test_df[(test_df[\"임대료\"] == 0) & (test_df[\"지역\"] == \"대전광역시\")].index\n",
    "test_df.loc[a, \"임대료\"] = val"
   ]
  },
  {
   "cell_type": "markdown",
   "metadata": {},
   "source": [
    "#### 경기도 임대료 처리"
   ]
  },
  {
   "cell_type": "code",
   "execution_count": 121,
   "metadata": {},
   "outputs": [
    {
     "data": {
      "text/plain": [
       "227820.84717607973"
      ]
     },
     "execution_count": 121,
     "metadata": {},
     "output_type": "execute_result"
    }
   ],
   "source": [
    "grouped = train_df.groupby([ '지역'])\n",
    "group1 = grouped.get_group( ( '경기도')  )\n",
    "val = group1['임대료'].mean()\n",
    "val"
   ]
  },
  {
   "cell_type": "code",
   "execution_count": 122,
   "metadata": {},
   "outputs": [],
   "source": [
    "b = train_df[(train_df[\"임대료\"] == 0) & (train_df[\"지역\"] == \"경기도\")].index\n",
    "train_df.loc[b, \"임대료\"] = val"
   ]
  },
  {
   "cell_type": "code",
   "execution_count": 123,
   "metadata": {},
   "outputs": [
    {
     "data": {
      "text/plain": [
       "228166.9721115538"
      ]
     },
     "execution_count": 123,
     "metadata": {},
     "output_type": "execute_result"
    }
   ],
   "source": [
    "grouped = test_df.groupby([ '지역'])\n",
    "group1 = grouped.get_group( ( '경기도')  )\n",
    "val = group1['임대료'].mean()\n",
    "val"
   ]
  },
  {
   "cell_type": "code",
   "execution_count": 124,
   "metadata": {},
   "outputs": [],
   "source": [
    "b = test_df[(test_df[\"임대료\"] == 0) & (test_df[\"지역\"] == \"경기도\")].index\n",
    "test_df.loc[b, \"임대료\"] = val"
   ]
  },
  {
   "cell_type": "markdown",
   "metadata": {},
   "source": [
    "#### 전라북도 임대료 처리"
   ]
  },
  {
   "cell_type": "code",
   "execution_count": 125,
   "metadata": {},
   "outputs": [
    {
     "data": {
      "text/plain": [
       "134853.3027522936"
      ]
     },
     "execution_count": 125,
     "metadata": {},
     "output_type": "execute_result"
    }
   ],
   "source": [
    "grouped = train_df.groupby([ '지역'])\n",
    "group1 = grouped.get_group( ( '전라북도')  )\n",
    "val = group1['임대료'].mean()\n",
    "val"
   ]
  },
  {
   "cell_type": "code",
   "execution_count": 126,
   "metadata": {},
   "outputs": [],
   "source": [
    "d = train_df[(train_df[\"임대료\"] == 0) & (train_df[\"지역\"] == \"전라북도\")].index\n",
    "train_df.loc[d, \"임대료\"] = val"
   ]
  },
  {
   "cell_type": "code",
   "execution_count": 127,
   "metadata": {},
   "outputs": [
    {
     "data": {
      "text/plain": [
       "122518.20512820513"
      ]
     },
     "execution_count": 127,
     "metadata": {},
     "output_type": "execute_result"
    }
   ],
   "source": [
    "grouped = test_df.groupby([ '지역'])\n",
    "group1 = grouped.get_group( ( '전라북도')  )\n",
    "val = group1['임대료'].mean()\n",
    "val"
   ]
  },
  {
   "cell_type": "code",
   "execution_count": 128,
   "metadata": {},
   "outputs": [],
   "source": [
    "d = test_df[(test_df[\"임대료\"] == 0) & (test_df[\"지역\"] == \"전라북도\")].index\n",
    "test_df.loc[d, \"임대료\"] = val"
   ]
  },
  {
   "cell_type": "markdown",
   "metadata": {},
   "source": [
    "#### 강원도 임대료 처리¶"
   ]
  },
  {
   "cell_type": "code",
   "execution_count": 129,
   "metadata": {},
   "outputs": [
    {
     "data": {
      "text/plain": [
       "149024.4385026738"
      ]
     },
     "execution_count": 129,
     "metadata": {},
     "output_type": "execute_result"
    }
   ],
   "source": [
    "grouped = train_df.groupby([ '지역'])\n",
    "group1 = grouped.get_group( ( '강원도')  )\n",
    "val = group1['임대료'].mean()\n",
    "val"
   ]
  },
  {
   "cell_type": "code",
   "execution_count": 130,
   "metadata": {},
   "outputs": [],
   "source": [
    "e = train_df[(train_df[\"임대료\"] == 0) & (train_df[\"지역\"] == \"강원도\")].index\n",
    "train_df.loc[e, \"임대료\"] = val"
   ]
  },
  {
   "cell_type": "code",
   "execution_count": 131,
   "metadata": {},
   "outputs": [
    {
     "data": {
      "text/plain": [
       "90065.47169811321"
      ]
     },
     "execution_count": 131,
     "metadata": {},
     "output_type": "execute_result"
    }
   ],
   "source": [
    "grouped = test_df.groupby([ '지역'])\n",
    "group1 = grouped.get_group( ( '강원도')  )\n",
    "val = group1['임대료'].mean()\n",
    "val"
   ]
  },
  {
   "cell_type": "code",
   "execution_count": 132,
   "metadata": {},
   "outputs": [],
   "source": [
    "e = test_df[(test_df[\"임대료\"] == 0) & (test_df[\"지역\"] == \"강원도\")].index\n",
    "test_df.loc[e, \"임대료\"] = val"
   ]
  },
  {
   "cell_type": "markdown",
   "metadata": {},
   "source": [
    "#### 광주광역시 임대료 처리"
   ]
  },
  {
   "cell_type": "code",
   "execution_count": 133,
   "metadata": {},
   "outputs": [
    {
     "data": {
      "text/plain": [
       "163677.7304964539"
      ]
     },
     "execution_count": 133,
     "metadata": {},
     "output_type": "execute_result"
    }
   ],
   "source": [
    "grouped = train_df.groupby([ '지역'])\n",
    "group1 = grouped.get_group( ( '광주광역시')  )\n",
    "val = group1['임대료'].mean()\n",
    "val"
   ]
  },
  {
   "cell_type": "code",
   "execution_count": 134,
   "metadata": {},
   "outputs": [],
   "source": [
    "f = train_df[(train_df[\"임대료\"] == 0) & (train_df[\"지역\"] == \"광주광역시\")].index\n",
    "train_df.loc[f, \"임대료\"] = val"
   ]
  },
  {
   "cell_type": "code",
   "execution_count": 135,
   "metadata": {},
   "outputs": [
    {
     "data": {
      "text/plain": [
       "131236.30434782608"
      ]
     },
     "execution_count": 135,
     "metadata": {},
     "output_type": "execute_result"
    }
   ],
   "source": [
    "grouped = test_df.groupby([ '지역'])\n",
    "group1 = grouped.get_group( ( '광주광역시')  )\n",
    "val = group1['임대료'].mean()\n",
    "val"
   ]
  },
  {
   "cell_type": "code",
   "execution_count": 136,
   "metadata": {},
   "outputs": [
    {
     "name": "stderr",
     "output_type": "stream",
     "text": [
      "<ipython-input-136-816a3b222bf3>:1: UserWarning: Boolean Series key will be reindexed to match DataFrame index.\n",
      "  f = test_df[(train_df[\"임대료\"] == 0) & (test_df[\"지역\"] == \"광주광역시\")].index\n"
     ]
    }
   ],
   "source": [
    "f = test_df[(train_df[\"임대료\"] == 0) & (test_df[\"지역\"] == \"광주광역시\")].index\n",
    "test_df.loc[f, \"임대료\"] = val"
   ]
  },
  {
   "cell_type": "markdown",
   "metadata": {},
   "source": [
    "#### 충청남도 임대료 처리"
   ]
  },
  {
   "cell_type": "code",
   "execution_count": 137,
   "metadata": {},
   "outputs": [
    {
     "data": {
      "text/plain": [
       "62474.81012658228"
      ]
     },
     "execution_count": 137,
     "metadata": {},
     "output_type": "execute_result"
    }
   ],
   "source": [
    "grouped = train_df.groupby([ '지역'])\n",
    "group1 = grouped.get_group( ( '충청남도')  )\n",
    "val = group1['임대료'].mean()\n",
    "val"
   ]
  },
  {
   "cell_type": "code",
   "execution_count": 138,
   "metadata": {},
   "outputs": [],
   "source": [
    "g = train_df[(train_df[\"임대료\"] == 0) & (train_df[\"지역\"] == \"충청남도\")].index\n",
    "train_df.loc[g, \"임대료\"] = val"
   ]
  },
  {
   "cell_type": "code",
   "execution_count": 139,
   "metadata": {},
   "outputs": [
    {
     "data": {
      "text/plain": [
       "10396682.92682927"
      ]
     },
     "execution_count": 139,
     "metadata": {},
     "output_type": "execute_result"
    }
   ],
   "source": [
    "grouped = test_df.groupby([ '지역'])\n",
    "group1 = grouped.get_group( ( '충청남도')  )\n",
    "val = group1['임대보증금'].mean()\n",
    "val"
   ]
  },
  {
   "cell_type": "code",
   "execution_count": 140,
   "metadata": {},
   "outputs": [
    {
     "name": "stderr",
     "output_type": "stream",
     "text": [
      "<ipython-input-140-d85b57a2e3db>:1: UserWarning: Boolean Series key will be reindexed to match DataFrame index.\n",
      "  g = test_df[(train_df[\"임대료\"] == 0) & (test_df[\"지역\"] == \"충청남도\")].index\n"
     ]
    }
   ],
   "source": [
    "g = test_df[(train_df[\"임대료\"] == 0) & (test_df[\"지역\"] == \"충청남도\")].index\n",
    "test_df.loc[g, \"임대료\"] = val"
   ]
  },
  {
   "cell_type": "markdown",
   "metadata": {},
   "source": [
    "#### 부산광역시 임대료 처리"
   ]
  },
  {
   "cell_type": "code",
   "execution_count": 141,
   "metadata": {},
   "outputs": [
    {
     "data": {
      "text/plain": [
       "62818.53658536585"
      ]
     },
     "execution_count": 141,
     "metadata": {},
     "output_type": "execute_result"
    }
   ],
   "source": [
    "grouped = train_df.groupby([ '지역'])\n",
    "group1 = grouped.get_group( ( '부산광역시')  )\n",
    "val = group1['임대료'].mean()\n",
    "val"
   ]
  },
  {
   "cell_type": "code",
   "execution_count": 142,
   "metadata": {},
   "outputs": [],
   "source": [
    "h = train_df[(train_df[\"임대료\"] == 0) & (train_df[\"지역\"] == \"부산광역시\")].index\n",
    "train_df.loc[h, \"임대료\"] = val"
   ]
  },
  {
   "cell_type": "code",
   "execution_count": 143,
   "metadata": {},
   "outputs": [
    {
     "data": {
      "text/plain": [
       "94874.77272727272"
      ]
     },
     "execution_count": 143,
     "metadata": {},
     "output_type": "execute_result"
    }
   ],
   "source": [
    "grouped = test_df.groupby([ '지역'])\n",
    "group1 = grouped.get_group( ( '부산광역시')  )\n",
    "val = group1['임대료'].mean()\n",
    "val"
   ]
  },
  {
   "cell_type": "code",
   "execution_count": 144,
   "metadata": {},
   "outputs": [],
   "source": [
    "h = test_df[(test_df[\"임대료\"] == 0) & (test_df[\"지역\"] == \"부산광역시\")].index\n",
    "test_df.loc[h, \"임대료\"] = val"
   ]
  },
  {
   "cell_type": "markdown",
   "metadata": {},
   "source": [
    "#### 제주특별자치도 임대료 처리"
   ]
  },
  {
   "cell_type": "code",
   "execution_count": 145,
   "metadata": {},
   "outputs": [
    {
     "data": {
      "text/plain": [
       "114688.02197802198"
      ]
     },
     "execution_count": 145,
     "metadata": {},
     "output_type": "execute_result"
    }
   ],
   "source": [
    "grouped = train_df.groupby([ '지역'])\n",
    "group1 = grouped.get_group( ( '제주특별자치도')  )\n",
    "val = group1['임대료'].mean()\n",
    "val"
   ]
  },
  {
   "cell_type": "code",
   "execution_count": 146,
   "metadata": {},
   "outputs": [],
   "source": [
    "i = train_df[(train_df[\"임대료\"] == 0) & (train_df[\"지역\"] == \"제주특별자치도\")].index\n",
    "train_df.loc[i, \"임대료\"] = val"
   ]
  },
  {
   "cell_type": "code",
   "execution_count": 147,
   "metadata": {},
   "outputs": [
    {
     "data": {
      "text/plain": [
       "128065.0"
      ]
     },
     "execution_count": 147,
     "metadata": {},
     "output_type": "execute_result"
    }
   ],
   "source": [
    "grouped = test_df.groupby([ '지역'])\n",
    "group1 = grouped.get_group( ( '제주특별자치도')  )\n",
    "val = group1['임대료'].mean()\n",
    "val"
   ]
  },
  {
   "cell_type": "code",
   "execution_count": 149,
   "metadata": {},
   "outputs": [],
   "source": [
    "i = test_df[(test_df[\"임대료\"] == 0) & (test_df[\"지역\"] == \"제주특별자치도\")].index\n",
    "test_df.loc[i, \"임대료\"] = val"
   ]
  },
  {
   "cell_type": "markdown",
   "metadata": {},
   "source": [
    "#### 울산광역시 임대료 처리"
   ]
  },
  {
   "cell_type": "code",
   "execution_count": 157,
   "metadata": {},
   "outputs": [
    {
     "data": {
      "text/plain": [
       "222456.76470588235"
      ]
     },
     "execution_count": 157,
     "metadata": {},
     "output_type": "execute_result"
    }
   ],
   "source": [
    "grouped = train_df.groupby([ '지역'])\n",
    "group1 = grouped.get_group( ( '울산광역시')  )\n",
    "val = group1['임대료'].mean()\n",
    "val"
   ]
  },
  {
   "cell_type": "code",
   "execution_count": 158,
   "metadata": {},
   "outputs": [],
   "source": [
    "j = train_df[(train_df[\"임대료\"] == 0) & (train_df[\"지역\"] == \"울산광역시\")].index\n",
    "train_df.loc[j, \"임대료\"] = val"
   ]
  },
  {
   "cell_type": "code",
   "execution_count": 159,
   "metadata": {},
   "outputs": [
    {
     "data": {
      "text/plain": [
       "56980.27397260274"
      ]
     },
     "execution_count": 159,
     "metadata": {},
     "output_type": "execute_result"
    }
   ],
   "source": [
    "grouped = test_df.groupby([ '지역'])\n",
    "group1 = grouped.get_group( ( '울산광역시')  )\n",
    "val = group1['임대료'].mean()\n",
    "val"
   ]
  },
  {
   "cell_type": "code",
   "execution_count": 160,
   "metadata": {},
   "outputs": [],
   "source": [
    "j = test_df[(test_df[\"임대료\"] == 0) & (test_df[\"지역\"] == \"울산광역시\")].index\n",
    "test_df.loc[j, \"임대료\"] = val"
   ]
  },
  {
   "cell_type": "markdown",
   "metadata": {},
   "source": [
    "#### 충청북도 인대료 처리"
   ]
  },
  {
   "cell_type": "code",
   "execution_count": 161,
   "metadata": {},
   "outputs": [
    {
     "data": {
      "text/plain": [
       "163466.87116564417"
      ]
     },
     "execution_count": 161,
     "metadata": {},
     "output_type": "execute_result"
    }
   ],
   "source": [
    "grouped = train_df.groupby([ '지역'])\n",
    "group1 = grouped.get_group( ( '충청북도')  )\n",
    "val = group1['임대료'].mean()\n",
    "val"
   ]
  },
  {
   "cell_type": "code",
   "execution_count": 162,
   "metadata": {},
   "outputs": [],
   "source": [
    "k = train_df[(train_df[\"임대료\"] == 0) & (train_df[\"지역\"] == \"충청북도\")].index\n",
    "train_df.loc[k, \"임대료\"] = val"
   ]
  },
  {
   "cell_type": "code",
   "execution_count": 163,
   "metadata": {},
   "outputs": [
    {
     "data": {
      "text/plain": [
       "146157.45098039217"
      ]
     },
     "execution_count": 163,
     "metadata": {},
     "output_type": "execute_result"
    }
   ],
   "source": [
    "grouped = test_df.groupby([ '지역'])\n",
    "group1 = grouped.get_group( ( '충청북도')  )\n",
    "val = group1['임대료'].mean()\n",
    "val"
   ]
  },
  {
   "cell_type": "code",
   "execution_count": 164,
   "metadata": {},
   "outputs": [],
   "source": [
    "k = test_df[(test_df[\"임대료\"] == 0) & (test_df[\"지역\"] == \"충청북도\")].index\n",
    "test_df.loc[k, \"임대료\"] = val"
   ]
  },
  {
   "cell_type": "markdown",
   "metadata": {},
   "source": [
    "#### 전라남도 인대료 처리"
   ]
  },
  {
   "cell_type": "code",
   "execution_count": 165,
   "metadata": {},
   "outputs": [
    {
     "data": {
      "text/plain": [
       "133239.25170068027"
      ]
     },
     "execution_count": 165,
     "metadata": {},
     "output_type": "execute_result"
    }
   ],
   "source": [
    "grouped = train_df.groupby([ '지역'])\n",
    "group1 = grouped.get_group( ( '전라남도')  )\n",
    "val = group1['임대료'].mean()\n",
    "val"
   ]
  },
  {
   "cell_type": "code",
   "execution_count": 166,
   "metadata": {},
   "outputs": [],
   "source": [
    "l = train_df[(train_df[\"임대료\"] == 0) & (train_df[\"지역\"] == \"전라남도\")].index\n",
    "train_df.loc[l, \"임대료\"] = val"
   ]
  },
  {
   "cell_type": "code",
   "execution_count": 167,
   "metadata": {},
   "outputs": [
    {
     "data": {
      "text/plain": [
       "125647.02702702703"
      ]
     },
     "execution_count": 167,
     "metadata": {},
     "output_type": "execute_result"
    }
   ],
   "source": [
    "grouped = test_df.groupby([ '지역'])\n",
    "group1 = grouped.get_group( ( '전라남도')  )\n",
    "val = group1['임대료'].mean()\n",
    "val"
   ]
  },
  {
   "cell_type": "code",
   "execution_count": 168,
   "metadata": {},
   "outputs": [],
   "source": [
    "l = test_df[(test_df[\"임대료\"] == 0) & (test_df[\"지역\"] == \"전라남도\")].index\n",
    "test_df.loc[l, \"임대료\"] = val"
   ]
  },
  {
   "cell_type": "markdown",
   "metadata": {},
   "source": [
    "#### 경상북도 임대료 처리"
   ]
  },
  {
   "cell_type": "code",
   "execution_count": 169,
   "metadata": {},
   "outputs": [
    {
     "data": {
      "text/plain": [
       "146360.63063063062"
      ]
     },
     "execution_count": 169,
     "metadata": {},
     "output_type": "execute_result"
    }
   ],
   "source": [
    "grouped = train_df.groupby([ '지역'])\n",
    "group1 = grouped.get_group( ( '경상북도')  )\n",
    "val = group1['임대료'].mean()\n",
    "val"
   ]
  },
  {
   "cell_type": "code",
   "execution_count": 172,
   "metadata": {},
   "outputs": [],
   "source": [
    "l = train_df[(train_df[\"임대료\"] == 0) & (train_df[\"지역\"] == \"경상북도\")].index\n",
    "train_df.loc[l, \"임대료\"] = val"
   ]
  },
  {
   "cell_type": "code",
   "execution_count": 173,
   "metadata": {},
   "outputs": [
    {
     "data": {
      "text/plain": [
       "156279.1379310345"
      ]
     },
     "execution_count": 173,
     "metadata": {},
     "output_type": "execute_result"
    }
   ],
   "source": [
    "grouped = test_df.groupby([ '지역'])\n",
    "group1 = grouped.get_group( ( '경상북도')  )\n",
    "val = group1['임대료'].mean()\n",
    "val"
   ]
  },
  {
   "cell_type": "code",
   "execution_count": 174,
   "metadata": {},
   "outputs": [],
   "source": [
    "l = test_df[(test_df[\"임대료\"] == 0) & (test_df[\"지역\"] == \"경상북도\")].index\n",
    "test_df.loc[l, \"임대료\"] = val"
   ]
  },
  {
   "cell_type": "markdown",
   "metadata": {},
   "source": [
    "#### 대구광역시 임대료처리"
   ]
  },
  {
   "cell_type": "code",
   "execution_count": 175,
   "metadata": {},
   "outputs": [
    {
     "data": {
      "text/plain": [
       "255381.27450980392"
      ]
     },
     "execution_count": 175,
     "metadata": {},
     "output_type": "execute_result"
    }
   ],
   "source": [
    "grouped = train_df.groupby([ '지역'])\n",
    "group1 = grouped.get_group( ( '대구광역시')  )\n",
    "val = group1['임대료'].mean()\n",
    "val"
   ]
  },
  {
   "cell_type": "code",
   "execution_count": 176,
   "metadata": {},
   "outputs": [],
   "source": [
    "m = train_df[(train_df[\"임대료\"] == 0) & (train_df[\"지역\"] == \"대구광역시\")].index\n",
    "train_df.loc[m, \"임대료\"] = val"
   ]
  },
  {
   "cell_type": "code",
   "execution_count": 177,
   "metadata": {},
   "outputs": [
    {
     "data": {
      "text/plain": [
       "184355.83333333334"
      ]
     },
     "execution_count": 177,
     "metadata": {},
     "output_type": "execute_result"
    }
   ],
   "source": [
    "grouped = test_df.groupby([ '지역'])\n",
    "group1 = grouped.get_group( ( '대구광역시')  )\n",
    "val = group1['임대료'].mean()\n",
    "val"
   ]
  },
  {
   "cell_type": "code",
   "execution_count": 178,
   "metadata": {},
   "outputs": [],
   "source": [
    "m = test_df[(test_df[\"임대료\"] == 0) & (test_df[\"지역\"] == \"대구광역시\")].index\n",
    "test_df.loc[m, \"임대료\"] = val"
   ]
  },
  {
   "cell_type": "markdown",
   "metadata": {},
   "source": [
    "#### 서울특별시 임대료 처리"
   ]
  },
  {
   "cell_type": "code",
   "execution_count": 179,
   "metadata": {},
   "outputs": [
    {
     "data": {
      "text/plain": [
       "369625.9375"
      ]
     },
     "execution_count": 179,
     "metadata": {},
     "output_type": "execute_result"
    }
   ],
   "source": [
    "grouped = train_df.groupby([ '지역'])\n",
    "group1 = grouped.get_group( ( '서울특별시')  )\n",
    "val = group1['임대료'].mean()\n",
    "val"
   ]
  },
  {
   "cell_type": "code",
   "execution_count": 180,
   "metadata": {},
   "outputs": [],
   "source": [
    "s = train_df[(train_df[\"임대료\"] == 0) & (train_df[\"지역\"] == \"서울특별시\")].index\n",
    "train_df.loc[s, \"임대료\"] = val"
   ]
  },
  {
   "cell_type": "markdown",
   "metadata": {},
   "source": [
    "#### 세종특별자치시 임대료 처리"
   ]
  },
  {
   "cell_type": "code",
   "execution_count": 181,
   "metadata": {},
   "outputs": [
    {
     "data": {
      "text/plain": [
       "437166.6666666667"
      ]
     },
     "execution_count": 181,
     "metadata": {},
     "output_type": "execute_result"
    }
   ],
   "source": [
    "grouped = train_df.groupby([ '지역'])\n",
    "group1 = grouped.get_group( ( '세종특별자치시')  )\n",
    "val = group1['임대료'].mean()\n",
    "val"
   ]
  },
  {
   "cell_type": "code",
   "execution_count": 182,
   "metadata": {},
   "outputs": [],
   "source": [
    "q = train_df[(train_df[\"임대료\"] == 0) & (train_df[\"지역\"] == \"세종특별자치시\")].index\n",
    "train_df.loc[q, \"임대료\"] = val"
   ]
  },
  {
   "cell_type": "code",
   "execution_count": 183,
   "metadata": {},
   "outputs": [
    {
     "data": {
      "text/plain": [
       "158392.1052631579"
      ]
     },
     "execution_count": 183,
     "metadata": {},
     "output_type": "execute_result"
    }
   ],
   "source": [
    "grouped = test_df.groupby([ '지역'])\n",
    "group1 = grouped.get_group( ( '세종특별자치시')  )\n",
    "val = group1['임대료'].mean()\n",
    "val"
   ]
  },
  {
   "cell_type": "code",
   "execution_count": 184,
   "metadata": {},
   "outputs": [
    {
     "name": "stderr",
     "output_type": "stream",
     "text": [
      "<ipython-input-184-7041d4ad4a01>:1: UserWarning: Boolean Series key will be reindexed to match DataFrame index.\n",
      "  q = test_df[(train_df[\"임대료\"] == 0) & (test_df[\"지역\"] == \"세종특별자치시\")].index\n"
     ]
    }
   ],
   "source": [
    "q = test_df[(train_df[\"임대료\"] == 0) & (test_df[\"지역\"] == \"세종특별자치시\")].index\n",
    "test_df.loc[q, \"임대료\"] = val"
   ]
  },
  {
   "cell_type": "code",
   "execution_count": 186,
   "metadata": {},
   "outputs": [
    {
     "data": {
      "text/plain": [
       "단지코드          0\n",
       "총세대수          0\n",
       "임대건물구분        0\n",
       "지역            0\n",
       "공급유형          0\n",
       "전용면적          0\n",
       "전용면적별세대수      0\n",
       "공가수           0\n",
       "자격유형          0\n",
       "임대보증금         0\n",
       "임대료           0\n",
       "10분내지하철수      0\n",
       "10분내버스정류장수    0\n",
       "단지내주차면수       0\n",
       "등록차량수         0\n",
       "dtype: int64"
      ]
     },
     "execution_count": 186,
     "metadata": {},
     "output_type": "execute_result"
    }
   ],
   "source": [
    "train_df.isnull().sum()"
   ]
  },
  {
   "cell_type": "code",
   "execution_count": 187,
   "metadata": {},
   "outputs": [
    {
     "data": {
      "text/plain": [
       "단지코드          0\n",
       "총세대수          0\n",
       "임대건물구분        0\n",
       "지역            0\n",
       "공급유형          0\n",
       "전용면적          0\n",
       "전용면적별세대수      0\n",
       "공가수           0\n",
       "자격유형          0\n",
       "임대보증금         0\n",
       "임대료           0\n",
       "10분내지하철수      0\n",
       "10분내버스정류장수    0\n",
       "단지내주차면수       0\n",
       "dtype: int64"
      ]
     },
     "execution_count": 187,
     "metadata": {},
     "output_type": "execute_result"
    }
   ],
   "source": [
    "test_df.isnull().sum()"
   ]
  },
  {
   "cell_type": "code",
   "execution_count": null,
   "metadata": {},
   "outputs": [],
   "source": []
  }
 ],
 "metadata": {
  "kernelspec": {
   "display_name": "Python 3",
   "language": "python",
   "name": "python3"
  },
  "language_info": {
   "codemirror_mode": {
    "name": "ipython",
    "version": 3
   },
   "file_extension": ".py",
   "mimetype": "text/x-python",
   "name": "python",
   "nbconvert_exporter": "python",
   "pygments_lexer": "ipython3",
   "version": "3.8.5"
  }
 },
 "nbformat": 4,
 "nbformat_minor": 4
}
